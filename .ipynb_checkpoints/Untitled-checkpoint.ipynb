{
 "cells": [
  {
   "cell_type": "code",
   "execution_count": 4,
   "metadata": {
    "collapsed": false
   },
   "outputs": [
    {
     "data": {
      "text/plain": [
       ":Philz"
      ]
     },
     "execution_count": 4,
     "metadata": {},
     "output_type": "execute_result"
    }
   ],
   "source": [
    "require_relative './lib/sf_coffee'\n",
    "\n",
    "class SfCoffee::Scraper\n",
    "\t\n",
    "\tdef self.Starbucks\n",
    "\t  \tstores = []\n",
    "      addresses = []\n",
    "    \tdoc = Nokogiri::XML(open(\"https://openapi.starbucks.com/location/v1/stores?apikey=7b35m595vccu6spuuzu2rjh4&city=San%20Francisco&limit=50\"))\n",
    "        doc.xpath(\"//xmlns:store\").each do |store|\n",
    "          address = store.xpath(\"xmlns:address\") \n",
    "          stores << {\n",
    "           \t\t:name => store.xpath(\"xmlns:name\").text,\n",
    "                :address => [address.xpath(\"xmlns:streetAddressLine1\").text(), address.xpath(\"xmlns:streetAddressLine2\").text(), address.xpath(\"xmlns:streetAddressLine3\").text(), address.xpath(\"xmlns:city\").text()].delete_if{|i|i==\"\"},\n",
    "                :phone => store.xpath(\"xmlns:phoneNumber\").text,\n",
    "                :zip_code => address.xpath(\"xmlns:postalCode\").text[0..5]\n",
    "           \t}\n",
    "        end\n",
    "        doc = Nokogiri::XML(open(\"https://openapi.starbucks.com/location/v1/stores?apikey=7b35m595vccu6spuuzu2rjh4&city=San%20Francisco&offset=50&limit=50\"))\n",
    "       \tdoc.xpath(\"//xmlns:store\").each do |store|\n",
    "            address = store.xpath(\"xmlns:address\") \n",
    "         \tstores << {\n",
    "           \t\t:name => store.xpath(\"xmlns:name\").text,\n",
    "                :address => [address.xpath(\"xmlns:streetAddressLine1\").text(), address.xpath(\"xmlns:streetAddressLine2\").text(), address.xpath(\"xmlns:streetAddressLine3\").text(), address.xpath(\"xmlns:city\").text()].delete_if{|i|i==\"\"},\n",
    "                :phone => store.xpath(\"xmlns:phoneNumber\").text,\n",
    "                :zip_code => address.xpath(\"xmlns:postalCode\").text\n",
    "           \t}\n",
    "       \tend\n",
    "        stores.each{|store|store[:address] = store[:address].join(\", \")}\n",
    "        stores\n",
    "\t end\n",
    "\n",
    "\tdef self.Peets\n",
    "\t\tstores = []\n",
    "\t\tdoc = Nokogiri::HTML(open(\"http://www.peets.com/stores/peets-stores/stores-store-list.html\"))\n",
    "\t\tdoc.css(\".storeItem\").each do |store|\n",
    "          \tstores << {\n",
    "            \t:name => store.children[0].text,\n",
    "            \t:address => (store.children[2].text()+\",\"+store.children[4].text()),\n",
    "            \t:zip_code => store.children[0].text,\n",
    "            \t:phone => store.children[6].text.gsub(\" \", \"\")\n",
    "            }\n",
    "\t\tend\n",
    "      \tstores.delete_if{|store| !store[:name].include?(\"San Francisco\")}\n",
    "      \tstores.each {|store|store[:name] = store[:name].split(\"—\")[1]}\n",
    "      \tstores.each {|store|store[:zip_code] = store[:address].split(\"CA\")[1].gsub(\" \", \"\")}\n",
    "        stores.each{|store|store[:address] = store[:address][1..store[:address].length].split(/,* CA/)[0]}\n",
    "      \tstores\n",
    "\tend\n",
    "\n",
    "\tdef self.Philz\n",
    "        stores = []\n",
    "    \tdoc = Nokogiri::HTML(open(\"http://www.philzcoffee.com/locations-sf\"))\n",
    "     \tdoc.css(\".span4.mid\").each do |store|\n",
    "        \tstores << {\n",
    "          \t\t:name => store.css(\"h1\").text,\n",
    "          \t\t:address => store.css(\".location-text.text-left\").text.gsub(\"ADDRESS: \",\"\"),\n",
    "          \t\t:phone => store.css(\".pull-left.location-phone-detail .text-right\").text.gsub(\" \", \"\"),\n",
    "          \t\t:zip_code => nil\n",
    "          \t}\n",
    "      \tend\n",
    "      stores.delete_if{|store| !store[:address].include?(\"San Francisco\")}\n",
    "      stores.each {|store|store[:zip_code] = store[:address].split(\"CA\")[1].gsub(\" \", \"\")}\n",
    "      stores.each{|store|store[:address] = store[:address].split(\",\")[0]}\n",
    "      stores \n",
    "\tend\n",
    "end"
   ]
  },
  {
   "cell_type": "code",
   "execution_count": 5,
   "metadata": {
    "collapsed": false
   },
   "outputs": [
    {
     "data": {
      "text/plain": [
       "[{:name=>\"Presidio & Letterman\", :address=>\"1 Letterman Drive, Building C, Letterman Digital Arts Center, San Francisco\", :phone=>\"415-441-1740\", :zip_code=>\"941292402\"}, {:name=>\"Third & Market\", :address=>\"7 Third Street, Third & Market, San Francisco\", :phone=>\"4159799530\", :zip_code=>\"941033214\"}, {:name=>\"Safeway - San Francisco #995\", :address=>\"1335 Webster, San Francisco\", :phone=>\"415-921-4557\", :zip_code=>\"941154277\"}, {:name=>\"California & Battery\", :address=>\"295 California Street, San Francisco\", :phone=>\"415-986-2349\", :zip_code=>\"941114901\"}, {:name=>\"3727 Buchanan\", :address=>\"3735 Buchanan, San Francisco\", :phone=>\"4153462852\", :zip_code=>\"941231710\"}, {:name=>\"Bay & Taylor\", :address=>\"499 Bay Street, San Francisco\", :phone=>\"415-409-1847\", :zip_code=>\"941331860\"}, {:name=>\"455 Market\", :address=>\"455 Market Street, Suite 100, San Francisco\", :phone=>\"(415) 243-9792\", :zip_code=>\"941052450\"}, {:name=>\"19th and Irving\", :address=>\"1800 Irving Street, San Francisco\", :phone=>\"415-242-7970\", :zip_code=>\"941221818\"}, {:name=>\"Laurel Village\", :address=>\"3595 California St., SAN FRANCISCO\", :phone=>\"415-387-2249\", :zip_code=>\"941181707\"}, {:name=>\"74 New Montgomery\", :address=>\"74 New Montgomery Street, Suite 100, San Francisco\", :phone=>\"(415) 284-0651\", :zip_code=>\"941053411\"}, {:name=>\"Polk Street\", :address=>\"2165 Polk Street, San Francisco\", :phone=>\"(415) 921-1351\", :zip_code=>\"941092506\"}, {:name=>\"100 West Portal/Vicente\", :address=>\"100 West Portal, San Francisco\", :phone=>\"(415) 664-8370\", :zip_code=>\"941271306\"}, {:name=>\"27 Drumm Street\", :address=>\"27 Drumm Street, San Francisco\", :phone=>\"415-392-3825\", :zip_code=>\"941114805\"}, {:name=>\"123 Mission Street\", :address=>\"123 Mission Street, San Francisco\", :phone=>\"(415) 543-1510\", :zip_code=>\"941051501\"}, {:name=>\"Stonestown Galleria\", :address=>\"3251 20th Ave, Ste 250F, Stonestown Galleria, San Francisco\", :phone=>\"(415) 665-4956\", :zip_code=>\"941321915\"}, {:name=>\"Levi's Plaza at Sansome\", :address=>\"1255 Battery Street, Suite 600, Levi's Plaza, San Francisco\", :phone=>\"415-402-0379\", :zip_code=>\"941111167\"}, {:name=>\"Safeway - San Francisco #667\", :address=>\"5290 Diamond Heights Blvd, San Francisco\", :phone=>\"415-824-7744\", :zip_code=>\"941312118\"}, {:name=>\"425 Battery\", :address=>\"425 Battery Street, San Francisco\", :phone=>\"4154459030\", :zip_code=>\"941113220\"}, {:name=>\"8th & Townsend\", :address=>\"689 Townsend, San Francisco\", :phone=>\"415-255-7561\", :zip_code=>\"941034907\"}, {:name=>\"865 Market - SF Centre\", :address=>\"865 Market Street, C 26A, San Francisco Centre, San Francisco\", :phone=>\"415-348-0940\", :zip_code=>\"941031900\"}, {:name=>\"Powell & Sutter\", :address=>\"462 Powell Street, San Francisco\", :phone=>\"415-956-2321\", :zip_code=>\"941021504\"}, {:name=>\"Macy's-Union Square 4th Floor\", :address=>\"170 O'Farrell St, San Francisco\", :phone=>\"415-296-4328\", :zip_code=>\"941022202\"}, {:name=>\"Owens & 16th\", :address=>\"1700 Owens Street, San Francisco\", :phone=>\"415-252-7423\", :zip_code=>\"941580002\"}, {:name=>\"SFO T3 Baggage Claim (Retail)\", :address=>\"SFO, Terminal 3 United Gate73, San Francisco\", :phone=>\"\", :zip_code=>\"94128\"}, {:name=>\"Safeway-San Franscisco #1507\", :address=>\"2020 Market St., San Francisco\", :phone=>\"415-861-7660\", :zip_code=>\"941141314\"}, {:name=>\"Howard & Beale\", :address=>\"199 Fremont Street, Unit 110, Fremont Building, San Francisco\", :phone=>\"415-615-0458\", :zip_code=>\"941052245\"}, {:name=>\"Cyril Magnin at O`Farrell - Nikko\", :address=>\"222 Mason St, Nikko Hotel, San Francisco\", :phone=>\"415-296-9056\", :zip_code=>\"94102\"}, {:name=>\"Safeway-San Francisco #1490\", :address=>\"2300 16th St. Unit 203, San Francisco\", :phone=>\"415-575-1120\", :zip_code=>\"941034805\"}, {:name=>\"1231 Market Street\", :address=>\"1231 Market Street, San Francisco\", :phone=>\"(415) 522-1438\", :zip_code=>\"94103\"}, {:name=>\"99 Jackson\", :address=>\"99 Jackson Street, San Francisco\", :phone=>\"415-421-4464\", :zip_code=>\"941112021\"}, {:name=>\"Union Street\", :address=>\"1899 Union Street, San Francisco\", :phone=>\"(415) 921-4049\", :zip_code=>\"941234307\"}, {:name=>\"Fillmore\", :address=>\"2222 Fillmore Street, San Francisco\", :phone=>\"(415) 673-3171\", :zip_code=>\"941152222\"}, {:name=>\"Bush & Van Ness - S.F.\", :address=>\"1401 Van Ness Avenue, San Francisco\", :phone=>\"(415) 474-7095\", :zip_code=>\"941094607\"}, {:name=>\"Grand Central Market - Mollie Stone\", :address=>\"2435 California Street, San Francisco\", :phone=>\"415-567-3978\", :zip_code=>\"941152619\"}, {:name=>\"333 Market St.\", :address=>\"333 Market Street, San Francisco\", :phone=>\"(415) 543-4786\", :zip_code=>\"941052101\"}, {:name=>\"50 California St.\", :address=>\"52 California Street, San Francisco\", :phone=>\"(415) 398-8630\", :zip_code=>\"941114603\"}, {:name=>\"Church & Market - S.F.\", :address=>\"2018 Market Street, San Francisco\", :phone=>\"(415) 431-5561\", :zip_code=>\"941141314\"}, {:name=>\"Geary & Taylor - San Francisco\", :address=>\"442 Geary Street, San Francisco\", :phone=>\"(415) 922-9086\", :zip_code=>\"941021223\"}, {:name=>\"4th & Brannan - WFB\", :address=>\"490 Brannan Street, San Francisco\", :phone=>\"(415) 974-5926\", :zip_code=>\"941071713\"}, {:name=>\"24th & Noe\", :address=>\"3995 24th Street, San Francisco\", :phone=>\"(415) 826-1118\", :zip_code=>\"941143703\"}, {:name=>\"390 Stockton at Sutter (Union Sq)\", :address=>\"390 Stockton Street, San Francisco\", :phone=>\"415-989-1637\", :zip_code=>\"941084670\"}, {:name=>\"Safeway-San Francisco #2606\", :address=>\"298 King Street, San Francisco\", :phone=>\"415-633-1001\", :zip_code=>\"941071702\"}, {:name=>\"Fillmore & O'Farrell\", :address=>\"1501 Fillmore Street, The Fillmore Center, San Francisco\", :phone=>\"415-441-7969\", :zip_code=>\"941153515\"}, {:name=>\"4th & Market - S.F.\", :address=>\"780 Market Street, San Francisco\", :phone=>\"(415) 677-4493\", :zip_code=>\"941022514\"}, {:name=>\"36 Second Street\", :address=>\"36 2nd Street, San Francisco\", :phone=>\"(415) 227-1665\", :zip_code=>\"941053440\"}, {:name=>\"5455 Geary Blvd. - WFB\", :address=>\"5455 Geary Blvd, San Francisco\", :phone=>\"(415) 386-8813\", :zip_code=>\"941212383\"}, {:name=>\"Mariposa & Bryant\", :address=>\"2727 Mariposa St, San Francisco\", :phone=>\"415-552-2649\", :zip_code=>\"941101472\"}, {:name=>\"Fox Plaza\", :address=>\"1390 Market Street, 107, Fox Plaza, San Francisco\", :phone=>\"415-863-8332\", :zip_code=>\"941025402\"}, {:name=>\"King & 4th Street\", :address=>\"280 King Street, Mission Bay, San Francisco\", :phone=>\"415-344-0351\", :zip_code=>\"941071702\"}, {:name=>\"Kansas & 16th St\", :address=>\"350 Rhode Island, San Francisco\", :phone=>\"415-864-6383\", :zip_code=>\"941035182\"}, {:name=>\"SF Courtyard Marriott Lobby\", :address=>\"299 Second St, San Francisco\", :phone=>\"415-947-0700\", :zip_code=>\"941053123\"}, {:name=>\"Van Ness & California - WFB\", :address=>\"1560 Van Ness Avenue, San Francisco\", :phone=>\"(415) 749-0365\", :zip_code=>\"941094694\"}, {:name=>\"398 Market St.\", :address=>\"398 Market Street, San Francisco\", :phone=>\"(415) 788-5856\", :zip_code=>\"941115305\"}, {:name=>\"Kearny at Bush\", :address=>\"264 Kearny Street, San Francisco\", :phone=>\"(415) 788-1363\", :zip_code=>\"941084505\"}, {:name=>\"Jones & Jefferson\", :address=>\"2801 Jones S, Ste 111, Anchorage Shopping Center, San Francisco\", :phone=>\"415-776-7907\", :zip_code=>\"941331116\"}, {:name=>\"Chestnut\", :address=>\"2132 Chestnut Street, San Francisco\", :phone=>\"(415) 673-6781\", :zip_code=>\"941232709\"}, {:name=>\"701 Battery\", :address=>\"701 Battery Street, San Francisco\", :phone=>\"(415) 986-5808\", :zip_code=>\"941111541\"}, {:name=>\"1750 Divisadero Street\", :address=>\"1750 Divisadero Street, San Francisco\", :phone=>\"(415) 346-7193\", :zip_code=>\"941153012\"}, {:name=>\"Grant & Bush\", :address=>\"359 Grant Avenue, San Francisco\", :phone=>\"415-392-2365\", :zip_code=>\"941083611\"}, {:name=>\"9th & Irving\", :address=>\"744 Irving Street, San Francisco\", :phone=>\"(415) 664-8340\", :zip_code=>\"941222410\"}, {:name=>\"201 Powell Street\", :address=>\"201 Powell Street, San Francisco\", :phone=>\"415-835-2470\", :zip_code=>\"941022205\"}, {:name=>\"675 Portola - Miraloma\", :address=>\"675 Portola Drive, San Francisco\", :phone=>\"415-682-9477\", :zip_code=>\"941271207\"}, {:name=>\"9th & Howard\", :address=>\"1298 Howard Street, San Francisco\", :phone=>\"(415) 565-7385\", :zip_code=>\"941032712\"}, {:name=>\"Masonic at Fulton - S.F.\", :address=>\"1799 Fulton Street, San Francisco\", :phone=>\"(415) 474-8930\", :zip_code=>\"941171202\"}, {:name=>\"44 Montgomery & Market St\", :address=>\"44 Montgomery Street, San Francisco\", :phone=>\"415-397-4394\", :zip_code=>\"941044602\"}, {:name=>\"120 4th Street\", :address=>\"120 4th Street, San Francisco\", :phone=>\"(415) 284-0579\", :zip_code=>\"941033004\"}, {:name=>\"4094 18th St.\", :address=>\"4094 18th Street, San Francisco\", :phone=>\"(415) 626-6263\", :zip_code=>\"941142534\"}, {:name=>\"565 Clay St.\", :address=>\"565 Clay Street, San Francisco\", :phone=>\"415-834-0578\", :zip_code=>\"941113029\"}, {:name=>\"555 California St.\", :address=>\"555 California St, B of A, San Francisco\", :phone=>\"(415) 788-8670\", :zip_code=>\"941041503\"}, {:name=>\"Safeway - Noriega #985\", :address=>\"2350 Noriega Street, San Francisco\", :phone=>\"\", :zip_code=>\"941224240\"}, {:name=>\"Spear Street\", :address=>\"201 Spear Street, Suite 100, San Francisco\", :phone=>\"(415) 974-5077\", :zip_code=>\"941051682\"}, {:name=>\"Sansome\", :address=>\"343 Sansome, San Francisco\", :phone=>\"(415) 989-8759\", :zip_code=>\"941041303\"}, {:name=>\"3rd & Howard\", :address=>\"201 3rd St., Convention Plaza, Ground Floor, San Francisco\", :phone=>\"(415) 644-0072\", :zip_code=>\"941033143\"}, {:name=>\"SFO Terminal 2 Arrivals\", :address=>\"Terminal 2 San Francisco International A, San Francisco\", :phone=>\"650-821-9147\", :zip_code=>\"94128\"}, {:name=>\"Pier 1 - The Embarcadero\", :address=>\"Pier 1 - The Embarcadero, San Francisco\", :phone=>\"415 9563953\", :zip_code=>\"94111\"}, {:name=>\"First & Mission\", :address=>\"100 First Street, San Francisco\", :phone=>\"415-896-5044\", :zip_code=>\"941052634\"}, {:name=>\"Target SF Central T-2766\", :address=>\"789 Mission Street, San Francisco\", :phone=>\"415-343-6272\", :zip_code=>\"941033003\"}, {:name=>\"SFO - International Terminal - Spac\", :address=>\"San Francisco International Airport, San Francisco\", :phone=>\"650-333-0108\", :zip_code=>\"94128\"}, {:name=>\"Target SF West T-2768\", :address=>\"2675 Geary Blvd, San Francisco\", :phone=>\"415-796-5280\", :zip_code=>\"941183400\"}, {:name=>\"564 Market Street\", :address=>\"564 Market Street, San Francisco\", :phone=>\"(415) 291-0584\", :zip_code=>\"94105\"}, {:name=>\"Montgomery & Sutter\", :address=>\"100 Montgomery, San Francisco\", :phone=>\"4154459561\", :zip_code=>\"94104\"}, {:name=>\"Target Express - Bush Street\", :address=>\"225 Bush St, San Francisco\", :phone=>\"415-365-0834\", :zip_code=>\"94104-421\"}, {:name=>\"Target Express - Ocean Avenue\", :address=>\"1830 Ocean Ave., San Francisco\", :phone=>\"415-840-0523\", :zip_code=>\"94112\"}, {:name=>\"Hyde & Beach\", :address=>\"685 Beach Street, San Francisco\", :phone=>\"4154090840\", :zip_code=>\"94109\"}, {:name=>\"Teavana - San Francisco Centre\", :address=>\"865 Market St., #324, San Francisco Centre, San Francisco\", :phone=>\"415-512-7205\", :zip_code=>\"94103\"}, {:name=>\"Teavana - Stonestown Galleria\", :address=>\"3251  20th Ave., #216, Stonestown Galleria, San Francisco\", :phone=>\"415-682-8517\", :zip_code=>\"94132\"}, {:name=>\"3rd & Mission Bay Blvd\", :address=>\"1375 3rd Street, San Francisco\", :phone=>\"4155354083\", :zip_code=>\"94158\"}, {:name=>\"One Market\", :address=>\"1 Market Plaza, SP6, San Francisco\", :phone=>\"4155436345\", :zip_code=>\"94111\"}]"
      ]
     },
     "execution_count": 5,
     "metadata": {},
     "output_type": "execute_result"
    }
   ],
   "source": [
    "SfCoffee::Scraper.Starbucks\n",
    "\n"
   ]
  },
  {
   "cell_type": "code",
   "execution_count": null,
   "metadata": {
    "collapsed": true
   },
   "outputs": [],
   "source": []
  }
 ],
 "metadata": {
  "kernelspec": {
   "display_name": "Ruby 2.2.3",
   "language": "ruby",
   "name": "ruby"
  },
  "language_info": {
   "file_extension": ".rb",
   "mimetype": "application/x-ruby",
   "name": "ruby",
   "version": "2.2.3"
  }
 },
 "nbformat": 4,
 "nbformat_minor": 0
}
